{
 "cells": [
  {
   "attachments": {},
   "cell_type": "markdown",
   "id": "d404f74a-64ec-4e84-aa7f-03462a950aaf",
   "metadata": {},
   "source": [
    "CLIMATE MEDIA CODE"
   ]
  },
  {
   "attachments": {},
   "cell_type": "markdown",
   "id": "8901b649-bfec-4450-b036-1feded260cf6",
   "metadata": {},
   "source": [
  
   ]
  },
  {
   "cell_type": "code",
   "execution_count": 1,
   "id": "6c773e8b-a628-40ce-853f-77a7ef7d210c",
   "metadata": {
    "tags": []
   },
   "outputs": [],
   "source": [
    "import data\n",
    "import stats\n",
    "import graphing\n",
    "import numpy as np\n",
    "import pandas as pd\n",
    "import matplotlib.pyplot as plt\n",
    "\n",
    "# Automatically reload external modules\n",
    "%load_ext autoreload\n",
    "%autoreload 2\n"
   ]
  },
  {
   "cell_type": "markdown",
   "id": "66f35226",
   "metadata": {},
   "source": [
    "This is an Interactive Python Notebook, powered by Jupyter Notebook. In order to access these coding cells, which is where you can type in the functions you desire, you need to download progams like Python, VSCode, and/or Jupyter Notebook to your computer (if they aren't downloaded there already)\n",
    "\n",
    "https://cs.colby.edu/courses/S23/cs251/software.html\n",
    "\n",
    "This link will take you to a Colby Computer Science webpage with detailed instructions on how to download Python, VSCode, Jupyter Notebook, etc.\n",
    "\n",
    "Make sure you follow every step of the instructions from L1-L3 on that webpage, because all of the modules are needed to access the data."
   ]
  },
  {
   "cell_type": "markdown",
   "id": "8832906f",
   "metadata": {},
   "source": [
    "Now that everything is installed onto your computer, you can access the cells on this notebook. There are two kinds of cells—Markdown and Python. The Markdown cells only contain text that you can manipulate. The coding cells (the ones that say Python on the bottom right) are the ones where you can input the different variables for the functions."
   ]
  },
  {
   "cell_type": "markdown",
   "id": "30790377",
   "metadata": {},
   "source": [
    "To run one of the coding cells, you can either press the triangular play button that is on the left-hand side of the cell (it appears once you hover over it). Or, you can click onto the coding cell and press SHIFT + ENTER. Either will run the cell and all of the code it contains.\n",
    "\n",
    "Try it with the cell below, which loads the filmnames and coding data into the Stats class, which is where all of the functions will run. If you do not already have it, message me for a copy of all the data and csv files needed to run this program. You should make sure the folder has the files that end with a .py, and that there is a sub-folder there with files that end with .csv. Or you can get them from the github page, and see the standard file placement:\n",
    "\n",
    "(NOTE: You may notice that when the data is read in, some files may have some leftover films which have no data. This is fine, and simply means that those data points will default to 0.)"
   ]
  },
  {
   "cell_type": "code",
   "execution_count": 149,
   "id": "2642328d",
   "metadata": {},
   "outputs": [
    {
     "name": "stdout",
     "output_type": "stream",
     "text": [
      "final_data/8_4_oscar_data.csv  leftovers:  ['The Hangover Part III', \"We're the Millers\", 'The Suicide Squad', 'Bullet Train', 'The Unforgivable', 'Extraction', 'John Wick', 'The Lost City', 'Batman v Superman: Dawn of Justice', 'Midsommar', 'Smile', 'Hereditary', '365 dni', 'Doctor Strange in the Multiverse of Madness', 'Mission: Impossible - Rogue Nation', 'F9', 'Spider-Man: Homecoming', 'Rampage', 'Ready or Not', \"The World's End\", 'John Wick: Chapter 3 - Parabellum', 'Nope', 'Avengers: Age of Ultron', 'Dil Bechara', 'Edge of Tomorrow', 'Searching', '22 Jump Street', 'Shazam!', \"Zack Snyder's Justice League\", 'The Meg', 'The Fault in Our Stars', 'Palm Springs', 'Kingsman: The Golden Circle', 'The Gentlemen', 'Fast & Furious 6', 'I Care a Lot', 'Baywatch', 'Us', 'Warm Bodies', 'Mother!', 'Wrath of Man', 'Fast & Furious 7', 'The Guilty', 'Chappie', 'Ant-Man and the Wasp', 'Druk (Another Round)', 'Gisaengchung (Parasite)', 'Escape Plan', 'El Hoyo (The Platform)', 'M3GAN', 'Ghost in the Shell', 'Old', 'Terminator: Dark Fate', 'Morbius', 'Hustle', 'Jurassic World', 'Zombieland: Double Tap', 'El Camino: A Breaking Bad Movie', 'Barbarian', 'Don Jon', 'This Is the End', 'Spy', 'The Gift', 'Godzilla', 'The Amazing Spider-Man 2', 'Bird Box', 'Kick-Ass 2', 'Focus', 'Jumanji: The Next Level', 'Jurassic World: Dominion', 'Red Notice', 'Olympus Has Fallen', 'Greenland', 'Mission: Impossible - Fallout', 'Despicable Me 3', 'The Old Guard', 'Ant-Man', 'Get Hard', 'Sonic the Hedgehog', 'The Fate of the Furious', 'Uncharted', 'Deadpool 2', 'Transformers: Age of Extinction', 'Black Adam', 'Black Widow', 'Kingsman: The Secret Service', 'Soorarai Pottru', 'The Adam Project', 'Maze Runner: The Scorch Trials', 'The Equalizer', 'Jumanji: Welcome to the Jungle', 'Jason Bourne', 'Fast & Furious Presents: Hobbs & Shaw', 'The Babadook', '6 Underground', 'About Time', 'Upgrade', 'Doctor Sleep', 'Captain America: Civil War', \"Don't Breathe\", 'Ted 2', 'Mortal Kombat', 'Man of Steel', 'The Secret Life of Walter Mitty', 'John Wick: Chapter 2', 'Oblivion', 'Happy Death Day', 'The Gray Man', 'Venom', 'Eternals', 'Lucy', 'Spider-Man: Far from Home', 'Godzilla vs. Kong', 'Radhe', 'The Accountant', 'A Quiet Place Part II', 'Southpaw', 'The Intern', 'Deadpool', 'The Tomorrow War', 'Sadak 2', 'Bad Boys for Life', 'It Follows', \"The Hitman's Bodyguard\", 'Pitch Perfect 2', 'Me Before You', 'Logan Lucky', 'Pokemon: Detective Pikachu', 'Army of the Dead', 'Birds of Prey and the Fantabulous Emancipation of One Harley Quinn', 'The Wolverine', 'Brahmastra Part One: Shiva', 'Project Power', 'Nobody', 'Uncut Gems', 'Busanhaeng (Train to Busan)', 'Jurassic World: Fallen Kingdom', 'Game Night', 'Justice League', 'The Unbearable Weight of Massive Talent', 'Transformers: The Last Knight', 'The Purge', '10 Cloverfield Lane', 'Neighbors', 'Tomb Raider', 'Scream', 'Now You See Me 2', 'Split', 'Red Sparrow', 'The Interview', 'The Mitchells vs. the Machines', 'Wind River', 'Non-Stop', 'Venom: Let There Be Carnage', 'It Chapter Two', 'Godzilla: King of the Monsters', 'Kimi no na wa (Your Name)', 'Crazy Rich Asians', 'The Menu', 'Now You See Me', 'Ghostbusters: Afterlife', \"Ocean's 8\", 'Monsters University', 'Finding Dory', 'Snowpiercer', 'San Andreas', 'Glass Onion', 'Aquaman', 'Pacific Rim', 'Fantastic Four', 'The Killing of a Sacred Deer', 'Annihilation', 'The Invisible Man']\n",
      "final_data/8_4_sag_data.csv  leftovers:  ['The Hangover Part III', \"We're the Millers\", 'The Suicide Squad', 'The Batman', 'Bullet Train', 'The Unforgivable', 'Extraction', 'Eurovision Song Contest: The Story of Fire Saga', 'John Wick', 'The Lost City', 'Batman v Superman: Dawn of Justice', 'Midsommar', 'Smile', 'Fifty Shades of Grey', 'Hereditary', '365 dni', 'Doctor Strange in the Multiverse of Madness', 'Mission: Impossible - Rogue Nation', 'F9', 'Black Panther: Wakanda Forever', 'Spider-Man: Homecoming', 'Rampage', 'Ready or Not', 'Soul', \"The World's End\", 'John Wick: Chapter 3 - Parabellum', 'Nope', 'Avengers: Age of Ultron', \"Molly's Game\", 'Dil Bechara', 'Edge of Tomorrow', 'The Hunt', 'Searching', '22 Jump Street', 'Shazam!', 'Free Guy', \"Zack Snyder's Justice League\", 'The Meg', 'The Fault in Our Stars', 'Palm Springs', 'Kingsman: The Golden Circle', 'Ex Machina', 'The Gentlemen', 'I Care a Lot', 'Baywatch', 'Ghostbusters', 'Warm Bodies', 'Mother!', 'Wrath of Man', 'The Guilty', 'Chappie', 'Druk (Another Round)', 'Escape Plan', 'El Hoyo (The Platform)', 'M3GAN', 'Ghost in the Shell', 'Old', 'Terminator: Dark Fate', 'Morbius', 'Hustle', 'Wonder', 'Zootopia', 'Zombieland: Double Tap', 'El Camino: A Breaking Bad Movie', 'Barbarian', 'Don Jon', 'This Is the End', 'The Lobster', 'Spy', 'The Gift', 'Godzilla', 'Sully', 'The Amazing Spider-Man 2', 'Bird Box', 'Kick-Ass 2', 'Focus', 'Jumanji: The Next Level', 'Knives Out', 'Jurassic World: Dominion', 'Spectre', 'Isle of Dogs', 'Red Notice', 'Creed', 'Olympus Has Fallen', 'Greenland', 'Despicable Me 3', 'The Old Guard', 'Ant-Man', 'Get Hard', 'Sonic the Hedgehog', 'The Fate of the Furious', 'Uncharted', 'Deadpool 2', 'Transformers: Age of Extinction', 'Black Adam', 'Kingsman: The Secret Service', 'Soorarai Pottru', 'The Adam Project', 'Maze Runner: The Scorch Trials', 'Manchester by the Sea', 'Everything Everywhere All at Once', 'The Equalizer', 'Jumanji: Welcome to the Jungle', 'Fast & Furious Presents: Hobbs & Shaw', 'The Babadook', '6 Underground', 'About Time', 'Upgrade', 'Doctor Sleep', 'Top Gun: Maverick', \"Don't Breathe\", 'Spider-Man: Into the Spider-Verse', 'Ted 2', 'Mortal Kombat', 'Man of Steel', 'The Secret Life of Walter Mitty', 'The Mummy', 'Suicide Squad', 'John Wick: Chapter 2', 'Oblivion', 'Happy Death Day', 'The Gray Man', 'Venom', 'Captain America: The Winter Soldier', 'Eternals', 'Lucy', 'Spider-Man: Far from Home', 'Godzilla vs. Kong', 'Radhe', 'RoboCop', 'Ready Player One', 'The Accountant', 'A Quiet Place Part II', 'Despicable Me 2', 'Southpaw', 'The Intern', 'Deadpool', 'The Tomorrow War', 'Sadak 2', 'Bad Boys for Life', 'It Follows', \"The Hitman's Bodyguard\", 'Pitch Perfect 2', 'Love and Monsters', 'Me Before You', 'Logan Lucky', 'Pokemon: Detective Pikachu', 'Army of the Dead', 'Birds of Prey and the Fantabulous Emancipation of One Harley Quinn', 'Prisoners', 'Brahmastra Part One: Shiva', 'Project Power', 'Spider-Man: No Way Home', 'Nobody', 'Uncut Gems', 'Sicario', 'Iron Man 3', 'Busanhaeng (Train to Busan)', 'Jurassic World: Fallen Kingdom', 'Game Night', 'Justice League', 'The Unbearable Weight of Massive Talent', 'Transformers: The Last Knight', 'The Purge', '10 Cloverfield Lane', 'Neighbors', 'Tomb Raider', 'Scream', 'Now You See Me 2', 'Split', 'Red Sparrow', 'The Interview', 'The Mitchells vs. the Machines', 'Wind River', 'Non-Stop', 'Venom: Let There Be Carnage', 'It Chapter Two', 'Godzilla: King of the Monsters', 'Kimi no na wa (Your Name)', 'Glass', 'Her', 'The Menu', 'Now You See Me', 'Ghostbusters: Afterlife', \"Ocean's 8\", 'Monsters University', 'Finding Dory', 'Blade Runner 2049', 'Snowpiercer', 'San Andreas', 'Glass Onion', 'Tenet', 'Aquaman', 'Triangle of Sadness', 'Pacific Rim', 'Interstellar', 'Fantastic Four', 'The Killing of a Sacred Deer', 'Dawn of the Planet of the Apes', 'Toy Story 4', 'The Whale', 'Annihilation', 'The Invisible Man']\n",
      "\n",
      "Data was all processed without errors!\n"
     ]
    }
   ],
   "source": [
    "# My implementation of code demands two things for the Stats object to be created.\n",
    "# 1: A list of Movie Titles that will be included in the Stats object.\n",
    "# 2: A list of names of the csv files with all of the data that will be attached to those Movie Titles.\n",
    "\n",
    "# Note: while on my computer, I've labeled these files \"8_3_filmnames.csv\" and \"8_3_coding_data.csv\" respectively,\n",
    "# the names you put in HERE must match up to the names that the files have in the directory folder.\n",
    "# As long as they match up, you can change the file names to be whatever you'd like.\n",
    "\n",
    "# additionally, if the csv files are in some sub-folder (for example, a sub-folder with the title \"final_data\",\n",
    "# then you must put \"final_data/\" at the beginning of the file name: in total, \"final_data/8_3_filmnames.csv\", for example.\n",
    "\n",
    "\n",
    "film_names = \"final_data/8_3_filmnames.csv\" # film names to be included\n",
    "csv_list = [\"final_data/8_3_coding_data.csv\", \"final_data/8_4_important_data.csv\", 'final_data/8_10_director_writer.csv', 'final_data/8_4_oscar_data.csv', 'final_data/8_4_sag_data.csv', 'final_data/8_4_superhero_data.csv', 'final_data/8_7_distributors.csv', 'final_data/8_7_theaters_data.csv'] # csv files of data to be included\n",
    "\n",
    "# get the film names into a list\n",
    "df = pd.read_csv(film_names)\n",
    "film_names_list = list(df['Title']) #reads the Title column\n",
    "\n",
    "test = stats.Stats(list_of_csvfiles = csv_list, film_names = film_names_list) # creates a Stats object called test.\n",
    "test.read_dicts()\n",
    "if test.get_data().shape[0] != 0:\n",
    "    print(\"\\nData was all processed without errors!\")\n",
    "else:\n",
    "    print(\"\\nError: data was not processed properly\")\n"
   ]
  },
  {
   "cell_type": "markdown",
   "id": "811c34f3",
   "metadata": {},
   "source": [
    "Once this is passed, now we have access to all of the functions in my current implementation:\n",
    "\n",
    "percent_pass: out of a number of total films, how many pass a certain circumstance?\n",
    "\n",
    "ranged_percent_pass: out of a range for a number of total films, how many pass a certain question?\n",
    "\n",
    "count_totals: returns a dictioanry with the totals of each column desired\n",
    "\n",
    "totals_to_csv: writes a dictionary of column totals into a csv file\n",
    "\n",
    "check_strings: check which films include a certain string in their values\n",
    "\n",
    "pointbi_test: scipy Point Bi Serial Correlation test\n",
    "pearson_test: scipy Pearson's Correlation Test\n"
   ]
  },
  {
   "cell_type": "markdown",
   "id": "5072f80e",
   "metadata": {},
   "source": [
    "Below are cells, each containing one example of a test that can be run. You can change the variable names to whatever you desire. Remember: the variable name you type in has to match exactly the name of the column that is on the csv fie. For example, since the column for worldwide gross in the csv file has the header \"Worldwide BO Gross\", then this is the variable name you must write. Incorrect spelling of the variable will throw an error."
   ]
  },
  {
   "cell_type": "markdown",
   "id": "6611bf42",
   "metadata": {},
   "source": [
    "For example, let's do a simple one: how many films pass Q1?"
   ]
  },
  {
   "cell_type": "code",
   "execution_count": 114,
   "id": "c5ee3efa",
   "metadata": {},
   "outputs": [
    {
     "name": "stdout",
     "output_type": "stream",
     "text": [
      "32 / 250, 12.800%\n"
     ]
    }
   ],
   "source": [
    "q = 'Q1' #what question to test for\n",
    "answer = 'Yes' #what answer are we looking for\n",
    "\n",
    "print(test.percent_pass([q], total_instance=answer))\n",
    "\n",
    "# feel free to switch out this question with other questions"
   ]
  },
  {
   "cell_type": "markdown",
   "id": "dfb7665a",
   "metadata": {},
   "source": [
    "From the results, we see that 32/250 of the total films have the answer \"Yes\" to the \"Q1\" question.\n",
    "\n",
    "Beside the result is the percentage which is calculated.\n",
    "\n",
    "This function can also handle looking at multiple columns. For example, how many films that pass Q7-Q11 talk about climate change?"
   ]
  },
  {
   "cell_type": "code",
   "execution_count": 115,
   "id": "74dccf21",
   "metadata": {},
   "outputs": [
    {
     "name": "stdout",
     "output_type": "stream",
     "text": [
      "17 / 40, 42.500%\n"
     ]
    }
   ],
   "source": [
    "q_list = ['Q7', 'Q8', 'Q9', 'Q10', 'Q11'] # out of all the films that pass these questions\n",
    "pass_q = 'Q1' # how many pass this question?\n",
    "\n",
    "total_answer = 'Yes' #Says YES to the questions in q_list\n",
    "pass_answer = 'Yes' #Says YES to the questions in pass_q\n",
    "\n",
    "print(test.percent_pass(q_list, total_instance= total_answer, pass_col=pass_q, pass_instance=pass_answer))\n",
    "\n",
    "#again, feel free to swtch up the questions. \n",
    "\n",
    "# MAKE SURE: for the questions in the q_list, they need to have the same answer as the others. \n",
    "# For example, putting in a race question and a severe flooding questions wil not work, since they need different answers."
   ]
  },
  {
   "cell_type": "markdown",
   "id": "aa8b52a3",
   "metadata": {},
   "source": [
    "To give one more example, here is all of the Major Big 5 films in the that do not pass Q1."
   ]
  },
  {
   "cell_type": "code",
   "execution_count": 165,
   "id": "acedecfc",
   "metadata": {},
   "outputs": [
    {
     "name": "stdout",
     "output_type": "stream",
     "text": [
      "6 / 25, 24.000%\n"
     ]
    }
   ],
   "source": [
    "q_list = ['Category']\n",
    "pass_q = 'Q1'\n",
    "\n",
    "total_answer='Major (Big 5)'\n",
    "pass_answer = 'No'\n",
    "\n",
    "print(test.percent_pass(q_list,total_instance=total_answer, pass_col=pass_q, pass_instance=pass_answer))"
   ]
  },
  {
   "cell_type": "markdown",
   "id": "232d65f3",
   "metadata": {},
   "source": [
    "Now, I'll add an example of each function from my code, so that you can refer to them. Feel free to edit the variable name strings to whichever variables you'd like. Further, important notes: for my implementation, all of the files you include into the data MUST have it's first (left-most) column be the list of Movie Titles. The header at the top of this column MUST be called \"Title\". This is how my program reads the files and knows how to re-order them, even when they are disorganized.\n",
    "\n",
    "As long as your data files all have a left-most column of film names with a header called \"Title\", then this program will work. Otherwise, an error will occur."
   ]
  },
  {
   "cell_type": "code",
   "execution_count": 160,
   "id": "ca6755bd",
   "metadata": {},
   "outputs": [
    {
     "name": "stdout",
     "output_type": "stream",
     "text": [
      "45 / 245, 18.367%\n"
     ]
    }
   ],
   "source": [
    "# example of ranged percent pass: checks the range of one variable and if it passes a certain circumstance\n",
    "\n",
    "q_list = ['Rating'] #out of the films with a range of rating from 5-10, how many pass..\n",
    "min = 5\n",
    "max = 10\n",
    "\n",
    "pass_q = 'Superhero' #as a superhero movie? Can change these variables\n",
    "pass_answer = 'TRUE'\n",
    "\n",
    "print(test.ranged_percent_pass(q_list, pass_col=pass_q, min=min, max=max, pass_instance=pass_answer))\n"
   ]
  },
  {
   "cell_type": "code",
   "execution_count": 161,
   "id": "21bf253b",
   "metadata": {},
   "outputs": [
    {
     "name": "stdout",
     "output_type": "stream",
     "text": [
      "13 / 91, 14.286%\n"
     ]
    }
   ],
   "source": [
    "# example of the check strings function: checks whether columns with a certain keyword pass a certain circumstance\n",
    "\n",
    "total_q = 'Genre' #out of all movies with the genre, 'Drama', how many pass Q1?\n",
    "total_answer = 'Drama'\n",
    "\n",
    "pass_q  = 'Q1'\n",
    "pass_answer = 'Yes'\n",
    "\n",
    "result = test.check_strings(total_q, string=total_answer, pass_col = pass_q, pass_instance=pass_answer)\n",
    "print(result)"
   ]
  },
  {
   "cell_type": "code",
   "execution_count": 154,
   "id": "459fbb8a",
   "metadata": {},
   "outputs": [
    {
     "name": "stdout",
     "output_type": "stream",
     "text": [
      "Point Bi Serial Test Score: 0.02904374464030171\n",
      "Two-Tailed P-value: 0.6476588654922031\n"
     ]
    }
   ],
   "source": [
    "# example of point bi serial correlation test, which tests a dichotomous variable against a continuous variable.\n",
    "\n",
    "dichtomous_var = 'Q19' #put in string name of dichotomous_var\n",
    "continuous_var = 'Worldwide BO Gross' #put in string name of continuous_var\n",
    "\n",
    "result = test.pointbi_test(dichtomous_var, continuous_var)\n",
    "print(f'Point Bi Serial Test Score: {result[0]}\\nTwo-Tailed P-value: {result[1]}')"
   ]
  },
  {
   "cell_type": "code",
   "execution_count": 155,
   "id": "6a24b31d",
   "metadata": {},
   "outputs": [
    {
     "name": "stdout",
     "output_type": "stream",
     "text": [
      "Pearson Correlation Test Score: 0.027931321673932637\n",
      "Two-Tailed P-value: 0.6602953140306896\n"
     ]
    }
   ],
   "source": [
    "# example of pearson correlation test, which tests two continuous variables\n",
    "\n",
    "var_1 = 'Q26' #first varible to test\n",
    "var_2 = 'Worldwide BO Gross' #second variable to test\n",
    "\n",
    "result = test.pearson_test(var_1, var_2)\n",
    "print(f'Pearson Correlation Test Score: {result[0]}\\nTwo-Tailed P-value: {result[1]}')"
   ]
  },
  {
   "cell_type": "code",
   "execution_count": 157,
   "id": "c851d68c",
   "metadata": {},
   "outputs": [
    {
     "name": "stdout",
     "output_type": "stream",
     "text": [
      "Total Number for Q31: 27\n"
     ]
    }
   ],
   "source": [
    "# example of counting the total of a metric column (numbers)\n",
    "\n",
    "metric_var = 'Q31' #metric variable to count the total to. Q31 is the number of characters that engage in pro-environmental actions\n",
    "\n",
    "result = test.count_totals(metric_var, num=True)\n",
    "print(f'Total Number for {metric_var}: {result[metric_var]}')"
   ]
  },
  {
   "cell_type": "code",
   "execution_count": 162,
   "id": "7b00165f",
   "metadata": {},
   "outputs": [],
   "source": [
    "# examples of totals to csv file\n",
    "# Pressing enter to this coding cell will produce a csv file in your directory with the title below, containing the totals of the Variables included\n",
    "\n",
    "var_list = ['Q30', 'Q31', 'Q32', 'Q33', 'Q34'] # list of variables to count total for. Can be 1 or more. Q30-Q34 are the number of characters that take action or make the problem worse\n",
    "num = True #is the column metric data or categorical data?\n",
    "\n",
    "new_filename = 'example_totals.csv'\n",
    "\n",
    "test.totals_to_csv(var_list, file_name=new_filename, num=num)"
   ]
  }
 ],
 "metadata": {
  "kernelspec": {
   "display_name": "Python 3",
   "language": "python",
   "name": "python3"
  },
  "language_info": {
   "codemirror_mode": {
    "name": "ipython",
    "version": 3
   },
   "file_extension": ".py",
   "mimetype": "text/x-python",
   "name": "python",
   "nbconvert_exporter": "python",
   "pygments_lexer": "ipython3",
   "version": "3.8.5"
  },
  "vscode": {
   "interpreter": {
    "hash": "aee8b7b246df8f9039afb4144a1f6fd8d2ca17a180786b69acc140d282b71a49"
   }
  }
 },
 "nbformat": 4,
 "nbformat_minor": 5
}
